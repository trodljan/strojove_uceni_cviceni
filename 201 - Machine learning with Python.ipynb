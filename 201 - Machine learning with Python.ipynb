{
  "nbformat": 4,
  "nbformat_minor": 0,
  "metadata": {
    "colab": {
      "name": "201 - Machine learning with Python.ipynb",
      "provenance": []
    },
    "kernelspec": {
      "display_name": "Python 3",
      "language": "python",
      "name": "python3"
    },
    "language_info": {
      "codemirror_mode": {
        "name": "ipython",
        "version": 3
      },
      "file_extension": ".py",
      "mimetype": "text/x-python",
      "name": "python",
      "nbconvert_exporter": "python",
      "pygments_lexer": "ipython3",
      "version": "3.7.6"
    }
  },
  "cells": [
    {
      "cell_type": "markdown",
      "metadata": {
        "id": "H5RYrb2W8_Ke"
      },
      "source": [
        "![Logo 201](https://www.avalive.cz/files/ML2/201/201.png)\n",
        "\n",
        "**Course website:** [www.ml2.cz/labs](http://www.ml2.cz/labs)\n"
      ]
    },
    {
      "cell_type": "markdown",
      "metadata": {
        "id": "a6ZZfC2Rl9f4"
      },
      "source": [
        "# Part 1: Labs orientation\n"
      ]
    },
    {
      "cell_type": "markdown",
      "metadata": {
        "id": "GGimqWi--Joj"
      },
      "source": [
        "## Schedule\n",
        "Lab 1 – Machine learning with Python\n",
        "\n",
        "Lab 2 – Learning Fundamentals in Pytorch\n",
        "\n",
        "Lab 3 – Image classification and Transfer Learning\n",
        "\n",
        "Lab 4 – Selected Topics in Deep Learning\n",
        "\n",
        "Lab 5 – Project Presentation and Labs classification\n",
        "\n",
        "**Attendence:** \n",
        "\n",
        "Absence maximum 20% (one lab lesson). Last lesson is mandatory for all students who want to [win the prize](http://ml2.cz/#competition).\n",
        "<br /><br />\n",
        "Attendance consist of:\n",
        "1.   Being present during the Lab session\n",
        "2.   Finish all excercises (✍🏼)\n",
        "3.   Save changes to GitHub (within 7 days)\n",
        "\n",
        "\n"
      ]
    },
    {
      "cell_type": "markdown",
      "metadata": {
        "id": "TKHikDB5-0Ga"
      },
      "source": [
        "## Final assessment and class competition\n",
        "\n",
        "<a href=\"https://scssoft.com/\"><img src=\"https://www.avalive.cz/files/ML2/201/Scs_logo.png\"\n",
        " align=\"right\"></a>Our students will be presenting a final deep learning project (in groups of 2) to demonstrate all of the programming and deep learning skills mastered throughout the course. Our students will be eligible for prizes and awards as part of the class competition. Winners will be announced on the last day of class and receive a prize. \n",
        "\n",
        "Big thanks to our sponsor: [SCS Software](https://scssoft.com/), a Czech video game development company based in Prague (creator of the Truck Simulator series).\n",
        "\n",
        "**Instruction and Evaluation**\n",
        "\n",
        "You can get maximum 100 points. The team with the highest score receives the prize.\n",
        "Final projects will be evaluated accordingly:\n",
        "    \n",
        "    Idea (0-40 points)\n",
        "        anything from Machine learning, own idea guarantees you at least 20 points \n",
        "        if you have no Idea for your project, we can give you some (deducting 20 points from your \"idea\" score)\n",
        "    Implementation (0-30 points)\n",
        "        upload your code (preferably in Python) on GitHub by 2.1.2022 23:59\n",
        "        include working demo in Colab (clearly demonstrate your results)\n",
        "        do not upload huge datasets to GitHub repository.\n",
        "    Presentation (0-30 points)\n",
        "        present your project during the last Lab session on 6.1.2022\n",
        "        duration 20 min., (PowerPoint/Beamer/...)\n"
      ]
    },
    {
      "cell_type": "markdown",
      "metadata": {
        "id": "IX49ai4PCPXt"
      },
      "source": [
        "## Recommended reading:\n",
        "1.   [Godoy: Deep Learning with PyTorch Step-by-Step](https://leanpub.com/pytorch)\n",
        "2.   [Stevens, Antiga & Viehmann: Deep Learning with PyTorch](https://pytorch.org/assets/deep-learning/Deep-Learning-with-PyTorch.pdf)\n",
        "3.   [Goodfellow: Deep Learning](https://www.deeplearningbook.org/)"
      ]
    },
    {
      "cell_type": "markdown",
      "metadata": {
        "id": "Wa9bzcNEcNe0"
      },
      "source": [
        "## ✍🏼 Excercise 201.1\n",
        "\n"
      ]
    },
    {
      "cell_type": "markdown",
      "metadata": {
        "id": "ZSP6uWen-YYM"
      },
      "source": [
        "*Form groups of two and accept the group assignment called \"Final projects\".*\n",
        "\n",
        "*Instructions:*\n",
        "\n",
        "1.   [*Follow this invitation link*](http://www.final.ml2.cz)\n",
        "2.   *Create a new team or join an available team.*\n",
        "3.   *In the README file, please write down the topic of your project.*\n",
        "\n",
        "*Reminder*\n",
        "*   *Please upload your implementation and documentation of your final project to the given repository by 2.1.2022 23:59.*\n",
        "*   *Include working demo in Colab, in which you clearly demonstrate your results.*\n",
        "*   *Do not upload huge datasets to GitHub repository.*\n",
        "\n"
      ]
    },
    {
      "cell_type": "markdown",
      "metadata": {
        "id": "65KbU0oxmLnX"
      },
      "source": [
        "# Part 2: Colab"
      ]
    },
    {
      "cell_type": "markdown",
      "metadata": {
        "id": "eNVr6pE2PpY_"
      },
      "source": [
        "<a href=\"https://colab.research.google.com/\"><img src=\"https://www.avalive.cz/files/ML2/201/colab_logo.png\"\n",
        " align=\"right\"></a>There are several benefits of using Colab over using your own local machines:\n",
        "\n",
        "* You do not require to do an [environment setup](https://docs.conda.io/projects/conda/en/latest/index.html).\n",
        "* Browser-based [Jupyter Notebooks](https://jupyter.org/) with important [packages](https://pypi.org/) pre-installed\n",
        "* Document code with [Markdown](https://colab.research.google.com/notebooks/markdown_guide.ipynb)\n",
        "* Load Data from (and save to) [Local Drive and Google Drive](https://colab.research.google.com/notebooks/io.ipynb)\n",
        "* Importing [Notebooks from Github](https://colab.research.google.com/github/googlecolab/colabtools/blob/master/notebooks/colab-github-demo.ipynb#scrollTo=K-NVg7RjyeTk)\n",
        "* [Sharing](https://www.tutorialspoint.com/google_colab/google_colab_sharing_notebook.htm) with others\n",
        "* [Free GPU](https://www.tutorialspoint.com/google_colab/google_colab_using_free_gpu.htm)\n",
        "\n",
        "[How to use colab](https://colab.research.google.com/notebooks/basic_features_overview.ipynb)\n",
        "\n",
        "[Check one of the many youtube tutorials.](https://www.youtube.com/watch?v=RLYoEyIHL6A)\n",
        "\n",
        "[A Complete guide to Google Colab for Deep Learning](https://www.kdnuggets.com/2020/06/google-colab-deep-learning.html)\n",
        "\n",
        "[Advanced Google Colab Tips](https://amitness.com/2020/06/google-colaboratory-tips/)\n",
        "\n",
        "\n"
      ]
    },
    {
      "cell_type": "markdown",
      "metadata": {
        "id": "q3Q2Ys-DcXbb"
      },
      "source": [
        "## ✍🏼 Excercise 201.2"
      ]
    },
    {
      "cell_type": "markdown",
      "metadata": {
        "id": "BjhCP5hSAOz9"
      },
      "source": [
        "*Go through [A Complete guide to Google Colab](https://www.kdnuggets.com/2020/06/google-colab-deep-learning.html) or [Advanced Google Colab Tips](https://amitness.com/2020/06/google-colaboratory-tips/) and write down at least 3 things that interested you.*\n",
        "\n",
        "1. Keyboard Shortcuts\n",
        "1. Hardware Selection\n",
        "1. Bash Commands\n",
        "\n",
        "\n"
      ]
    },
    {
      "cell_type": "markdown",
      "metadata": {
        "id": "kNAqrM59Sp0S"
      },
      "source": [
        "# Part 3: GitHub"
      ]
    },
    {
      "cell_type": "markdown",
      "metadata": {
        "id": "v1XwYQA7ag9m"
      },
      "source": [
        "**What is Git?**\n",
        "\n",
        "Git is the most commonly used version control system. Git tracks the changes you make to files, so you have a record of what has been done, and you can revert to specific versions should you ever need to. Git also makes collaboration easier, allowing changes by multiple people to all be merged into one source. \n",
        "\n",
        "<img src=\"https://www.avalive.cz/files/ML2/201/git.png\">\n",
        "\n",
        "**What is GitHub?**\n",
        "\n",
        "<a href=\"https://github.com/\"><img src=\"https://www.avalive.cz/files/ML2/201/github_logo.png\"\n",
        " align=\"right\"></a>\n",
        "GitHub is a code hosting platform for version control and collaboration. It lets you and others work together on projects from anywhere.\n",
        "\n",
        "[What is GitHub?](https://www.youtube.com/watch?v=w3jLJU7DT5E)\n",
        "\n",
        "[Start using GitHub.](https://guides.github.com/activities/hello-world/)\n",
        "\n",
        "[Create a repo.](https://docs.github.com/en/get-started/quickstart/create-a-repo)\n",
        "\n"
      ]
    },
    {
      "cell_type": "markdown",
      "metadata": {
        "id": "LqcVV_jBCS_c"
      },
      "source": [
        "## ✍🏼 Excercise 201.3"
      ]
    },
    {
      "cell_type": "markdown",
      "metadata": {
        "id": "nQvVCZFnCT_J"
      },
      "source": [
        "1. *Create a public repository on your GitHub account and create your first commit. [You can start here](https://guides.github.com/activities/hello-world/).*\n",
        "2. *Open New Notebook on [colab.research.google.com](https://colab.research.google.com/)*\n",
        "3. *Save Notebook to your new repository.*\n",
        "\n",
        "*When finished, write down link to your repo.*\n",
        "\n",
        "> Link to your repository: https://github.com/trodljan/strojove_uceni_cviceni.git\n",
        "\n"
      ]
    },
    {
      "cell_type": "markdown",
      "metadata": {
        "id": "s51hLtePmLzE"
      },
      "source": [
        "# Part 4: Python Crash Course"
      ]
    },
    {
      "cell_type": "markdown",
      "metadata": {
        "id": "nB5Za7q9rUIn"
      },
      "source": [
        "## Python\n",
        "*   high-level, object-oriented, general purpose programming language\n",
        "*   open source (free to use and distribute, including for commercial purposes)\n",
        "*   interpreted (no need to compile the code)\n",
        "*   simple-to-learn syntax and excellent readability\n",
        "*   large community\n",
        "*   numerous libraries for scientific computing"
      ]
    },
    {
      "cell_type": "markdown",
      "metadata": {
        "id": "LuknXk6W7sXL"
      },
      "source": [
        "**You should know**\n",
        "* [Python code structure, variables, functions, conditions, loops](https://coobas.gitlab.io/python-fjfi/en/posts/zakladni-syntaxe.html)\n",
        "* [Containers: tuple, list, set, dict](https://coobas.gitlab.io/python-fjfi/en/posts/kontejnery.html)\n",
        "* [Object oriented programming](https://coobas.gitlab.io/python-fjfi/en/posts/objektove-orientovane-programovani.html)\n",
        "* Packages: [Numpy](https://coobas.gitlab.io/python-fjfi/en/posts/zaklady-numpy.html), [Matplotlib](https://coobas.gitlab.io/python-fjfi/posts/matplotlib.html)\n",
        "\n",
        "**Learn Python**\n",
        "* [FJFI Python Tutorial](https://coobas.gitlab.io/python-fjfi/)\n",
        "* [Introduction to Python](https://pythonprogramming.net/introduction-learn-python-3-tutorials/)\n",
        "* [Intermediate Python Programming introduction](https://pythonprogramming.net/introduction-intermediate-python-tutorial/)\n",
        "* [Python cheat sheet](https://websitesetup.org/wp-content/uploads/2021/04/Python-cheat-sheet-April-2021.pdf)\n",
        "* [Sharpen your python skills on CodeWars](https://www.codewars.com)\n"
      ]
    },
    {
      "cell_type": "markdown",
      "metadata": {
        "id": "RHFxsV4slGgm"
      },
      "source": [
        "### Variable assignment and basic operations"
      ]
    },
    {
      "cell_type": "markdown",
      "metadata": {
        "id": "2nvGtSoMlGgm"
      },
      "source": [
        "assign number $ 4 $ to variable $ x $ and print the value of $ x $:"
      ]
    },
    {
      "cell_type": "code",
      "metadata": {
        "scrolled": true,
        "id": "9iOX5P4YlGgm",
        "colab": {
          "base_uri": "https://localhost:8080/"
        },
        "outputId": "a43bf48f-4f56-4af7-f152-201b3b566ccb"
      },
      "source": [
        "x = 4\n",
        "print(x) "
      ],
      "execution_count": 6,
      "outputs": [
        {
          "output_type": "stream",
          "name": "stdout",
          "text": [
            "4\n"
          ]
        }
      ]
    },
    {
      "cell_type": "markdown",
      "metadata": {
        "id": "KIsY7yPalGgn"
      },
      "source": [
        "print the type of variable $ x $ using the [`type`](https://docs.python.org/3/library/functions.html#type) function:"
      ]
    },
    {
      "cell_type": "code",
      "metadata": {
        "id": "icmuzpxZlGgo",
        "colab": {
          "base_uri": "https://localhost:8080/"
        },
        "outputId": "6b26fec4-e7e0-43cb-9f3d-8f75ff14befa"
      },
      "source": [
        "type(x)"
      ],
      "execution_count": 7,
      "outputs": [
        {
          "output_type": "execute_result",
          "data": {
            "text/plain": [
              "int"
            ]
          },
          "metadata": {},
          "execution_count": 7
        }
      ]
    },
    {
      "cell_type": "markdown",
      "metadata": {
        "id": "YMcl0cgelGgo"
      },
      "source": [
        "single-line comments:"
      ]
    },
    {
      "cell_type": "code",
      "metadata": {
        "id": "D7AuSknXlGgo"
      },
      "source": [
        "# this is a single-line comment"
      ],
      "execution_count": 8,
      "outputs": []
    },
    {
      "cell_type": "markdown",
      "metadata": {
        "id": "Pf99m4lhlGgp"
      },
      "source": [
        "assign number $ 2 $ to variable $ a $, assign number $ 4 $ to variable $ b $, and print sum, difference, product, and quotient of both variables:"
      ]
    },
    {
      "cell_type": "code",
      "metadata": {
        "scrolled": true,
        "id": "WGTtsWDelGgp",
        "colab": {
          "base_uri": "https://localhost:8080/"
        },
        "outputId": "08ff8d43-52c2-46aa-b502-088c74c6bf17"
      },
      "source": [
        "a = 2\n",
        "b = 4 \n",
        "print(a + b, a - b, a * b, a / b)"
      ],
      "execution_count": 9,
      "outputs": [
        {
          "output_type": "stream",
          "name": "stdout",
          "text": [
            "6 -2 8 0.5\n"
          ]
        }
      ]
    },
    {
      "cell_type": "markdown",
      "metadata": {
        "id": "hUsYdBbPlGgp"
      },
      "source": [
        "assign number $ 2 $ to variable $ c $ and print square-root of $ c $ and $ c $ to the power of $ 2 $ using the `**` operator:"
      ]
    },
    {
      "cell_type": "code",
      "metadata": {
        "id": "jolYQGnVlGgq",
        "colab": {
          "base_uri": "https://localhost:8080/"
        },
        "outputId": "2d6a30ef-c81c-4142-b83e-2efbdef55e83"
      },
      "source": [
        "c = 2 \n",
        "print(c**0.5, c**2) "
      ],
      "execution_count": 10,
      "outputs": [
        {
          "output_type": "stream",
          "name": "stdout",
          "text": [
            "1.4142135623730951 4\n"
          ]
        }
      ]
    },
    {
      "cell_type": "markdown",
      "metadata": {
        "id": "Tb4iMQDSlGgq"
      },
      "source": [
        "create a list $ l $ of $ 1 $, $ 2.0 $, $ 3 $, and $ c $ (lists can contain any type of variable) and print the content of $ l $:"
      ]
    },
    {
      "cell_type": "code",
      "metadata": {
        "scrolled": true,
        "id": "QUw57QjclGgq",
        "colab": {
          "base_uri": "https://localhost:8080/"
        },
        "outputId": "43b077b3-fe49-444a-883f-d85cee16a2e2"
      },
      "source": [
        "l = [1, 2.0, 3, \"c\"]\n",
        "print(l) "
      ],
      "execution_count": 11,
      "outputs": [
        {
          "output_type": "stream",
          "name": "stdout",
          "text": [
            "[1, 2.0, 3, 'c']\n"
          ]
        }
      ]
    },
    {
      "cell_type": "markdown",
      "metadata": {
        "id": "fupPhH7FlGgq"
      },
      "source": [
        "### Conditions"
      ]
    },
    {
      "cell_type": "markdown",
      "metadata": {
        "id": "Rx8TFRzGlGgr"
      },
      "source": [
        "check if $ x $ is equal to $ 4 $, check if $ x $ is not equal to $ 3 $ using the operators `==` and `!=`:"
      ]
    },
    {
      "cell_type": "code",
      "metadata": {
        "id": "l9etC4smlGgr",
        "colab": {
          "base_uri": "https://localhost:8080/"
        },
        "outputId": "2cf70c85-37be-426f-f75f-3398870de088"
      },
      "source": [
        "print(x == 4, x != 3)"
      ],
      "execution_count": 12,
      "outputs": [
        {
          "output_type": "stream",
          "name": "stdout",
          "text": [
            "True True\n"
          ]
        }
      ]
    },
    {
      "cell_type": "markdown",
      "metadata": {
        "id": "3xr3UaqnlGgr"
      },
      "source": [
        "check if $ x $ is greater than $ 1 $ and less than $ 3 $, check if $ x $ is equal to $ 3 $ or $ 4 $ using the operators `and` and `or`:"
      ]
    },
    {
      "cell_type": "code",
      "metadata": {
        "id": "Usfq8B3jlGgr",
        "colab": {
          "base_uri": "https://localhost:8080/"
        },
        "outputId": "6599566c-808b-4363-a85e-d624ae105736"
      },
      "source": [
        "print(x > 1 and x < 3, x == 3 or x == 4)"
      ],
      "execution_count": 13,
      "outputs": [
        {
          "output_type": "stream",
          "name": "stdout",
          "text": [
            "False True\n"
          ]
        }
      ]
    },
    {
      "cell_type": "markdown",
      "metadata": {
        "id": "xJX0Syb9lGgr"
      },
      "source": [
        "if the value of variable $ x $ is less than or equal to $ 3 $, print \"x <= 3\", if the value of variable $ x $ is greater than $ 3 $ and less than $ 5 $, print \"3 < x < 5\", else print \"x >= 5\" using the [`if`](https://docs.python.org/3/reference/compound_stmts.html#if), [`elif`](https://docs.python.org/3/reference/compound_stmts.html#elif), and [`else`](https://docs.python.org/3/reference/compound_stmts.html#else) statements (note that in Python the code blocks must be indented - both tabs and spaces are supported):"
      ]
    },
    {
      "cell_type": "code",
      "metadata": {
        "id": "-Td7TzevlGgs",
        "colab": {
          "base_uri": "https://localhost:8080/"
        },
        "outputId": "c95e1787-f1c8-4214-87f6-a384b25506ed"
      },
      "source": [
        "if x <= 3:\n",
        "    print(\"x <= 3\") \n",
        "elif x > 3 and x < 5: \n",
        "    print(\"3 < x < 5\")\n",
        "else: \n",
        "    print(\"x >= 5\")"
      ],
      "execution_count": 14,
      "outputs": [
        {
          "output_type": "stream",
          "name": "stdout",
          "text": [
            "3 < x < 5\n"
          ]
        }
      ]
    },
    {
      "cell_type": "markdown",
      "metadata": {
        "id": "XJcm9sa4lGgs"
      },
      "source": [
        "use the `in` operator to check if the list $ l $ contains character $ c $:"
      ]
    },
    {
      "cell_type": "code",
      "metadata": {
        "id": "mMxNl6eWlGgs",
        "colab": {
          "base_uri": "https://localhost:8080/"
        },
        "outputId": "a7879a57-2061-45b0-e3e6-1b4609ebc5e1"
      },
      "source": [
        "print(\"c\" in l)"
      ],
      "execution_count": 15,
      "outputs": [
        {
          "output_type": "stream",
          "name": "stdout",
          "text": [
            "True\n"
          ]
        }
      ]
    },
    {
      "cell_type": "markdown",
      "metadata": {
        "id": "ZX4lrsT5lGgt"
      },
      "source": [
        "use the `in` and `not` operators to check if the number 4 is not in the list $ l $:"
      ]
    },
    {
      "cell_type": "code",
      "metadata": {
        "id": "MShUFMkPlGgt",
        "colab": {
          "base_uri": "https://localhost:8080/"
        },
        "outputId": "bbd8591d-53a1-4d84-c86a-5002ac4ff159"
      },
      "source": [
        "print(4 not in l)"
      ],
      "execution_count": 16,
      "outputs": [
        {
          "output_type": "stream",
          "name": "stdout",
          "text": [
            "True\n"
          ]
        }
      ]
    },
    {
      "cell_type": "markdown",
      "metadata": {
        "id": "tDOxvlpDlGgt"
      },
      "source": [
        "### Loops"
      ]
    },
    {
      "cell_type": "markdown",
      "metadata": {
        "id": "qkQYBQeSlGgt"
      },
      "source": [
        "print the sequence of numbers from 0 to 2 using the [`range`](https://docs.python.org/3/library/stdtypes.html#range) function and [`for`](https://docs.python.org/3/reference/compound_stmts.html#the-for-statement) loop (note that the [`range`](https://docs.python.org/3/library/stdtypes.html#range) function is zero based):"
      ]
    },
    {
      "cell_type": "code",
      "metadata": {
        "scrolled": false,
        "id": "T2aF5LM9lGgu",
        "colab": {
          "base_uri": "https://localhost:8080/"
        },
        "outputId": "ee10625a-a159-4a93-e775-f6fcc0e5daed"
      },
      "source": [
        "for i in range(3):\n",
        "    print(i)"
      ],
      "execution_count": 17,
      "outputs": [
        {
          "output_type": "stream",
          "name": "stdout",
          "text": [
            "0\n",
            "1\n",
            "2\n"
          ]
        }
      ]
    },
    {
      "cell_type": "markdown",
      "metadata": {
        "id": "1dpKYGqVlGgu"
      },
      "source": [
        "print the sequence of numbers from $ 3 $ to $ 5 $:"
      ]
    },
    {
      "cell_type": "code",
      "metadata": {
        "id": "EmlbFlojlGgu",
        "colab": {
          "base_uri": "https://localhost:8080/"
        },
        "outputId": "3689502b-fc03-4cdb-cc92-9c285c52d9f9"
      },
      "source": [
        "for i in range(3, 6):\n",
        "    print(i)"
      ],
      "execution_count": 18,
      "outputs": [
        {
          "output_type": "stream",
          "name": "stdout",
          "text": [
            "3\n",
            "4\n",
            "5\n"
          ]
        }
      ]
    },
    {
      "cell_type": "markdown",
      "metadata": {
        "id": "i99ob1VzlGgu"
      },
      "source": [
        "iterate over a sequence given by list:"
      ]
    },
    {
      "cell_type": "code",
      "metadata": {
        "id": "h9sQap4HlGgv",
        "colab": {
          "base_uri": "https://localhost:8080/"
        },
        "outputId": "ba5ad48b-8685-4998-b183-1fb7bd72f1e1"
      },
      "source": [
        "for x in [1,5,4]:\n",
        "    print(x)"
      ],
      "execution_count": 19,
      "outputs": [
        {
          "output_type": "stream",
          "name": "stdout",
          "text": [
            "1\n",
            "5\n",
            "4\n"
          ]
        }
      ]
    },
    {
      "cell_type": "markdown",
      "metadata": {
        "id": "pMehv2nalGgv"
      },
      "source": [
        "[`while`](https://docs.python.org/3/reference/compound_stmts.html#while) loops repeat as long as a certain boolean condition is met (note that the [`else`](https://docs.python.org/3/reference/compound_stmts.html#else) clause can be used in loops):"
      ]
    },
    {
      "cell_type": "code",
      "metadata": {
        "id": "lD_0yQaplGgv",
        "colab": {
          "base_uri": "https://localhost:8080/"
        },
        "outputId": "5c4c5fe5-0d3c-4b0a-e98b-7296d0a47be4"
      },
      "source": [
        "k = 10\n",
        "while k > 5:\n",
        "    print(\"k =\", k)\n",
        "    k = k - 1 # or k -= 1\n",
        "else:\n",
        "    print(\"k <= 5\")"
      ],
      "execution_count": 20,
      "outputs": [
        {
          "output_type": "stream",
          "name": "stdout",
          "text": [
            "k = 10\n",
            "k = 9\n",
            "k = 8\n",
            "k = 7\n",
            "k = 6\n",
            "k <= 5\n"
          ]
        }
      ]
    },
    {
      "cell_type": "markdown",
      "metadata": {
        "id": "ZKp5DOk5lGgv"
      },
      "source": [
        "### Functions"
      ]
    },
    {
      "cell_type": "markdown",
      "metadata": {
        "id": "2y7pLx5VlGgv"
      },
      "source": [
        "define a function that takes two numbers and returns their product using the `def` keyword:"
      ]
    },
    {
      "cell_type": "code",
      "metadata": {
        "id": "-QHpTQXClGgw",
        "colab": {
          "base_uri": "https://localhost:8080/"
        },
        "outputId": "18a6f4b7-71a3-46db-846e-7b054610c917"
      },
      "source": [
        "def multiply(x, y):\n",
        "    return x*y\n",
        "\n",
        "print(multiply(2, 3))"
      ],
      "execution_count": 21,
      "outputs": [
        {
          "output_type": "stream",
          "name": "stdout",
          "text": [
            "6\n"
          ]
        }
      ]
    },
    {
      "cell_type": "markdown",
      "metadata": {
        "id": "NoJOPq72lGgw"
      },
      "source": [
        "use the [`try`](https://docs.python.org/3/reference/compound_stmts.html#try) and [`except`](https://docs.python.org/3/reference/compound_stmts.html#except) statements to catch the error thrown by `multiply` function when multiplying two strings:"
      ]
    },
    {
      "cell_type": "code",
      "metadata": {
        "id": "M-wIOA4_lGgw",
        "colab": {
          "base_uri": "https://localhost:8080/"
        },
        "outputId": "6416d2ea-21f7-4095-bb83-07762336ef57"
      },
      "source": [
        "try:\n",
        "    multiply(\"a\", \"b\")\n",
        "except Exception as e:\n",
        "    print(\"Caught an exception: \" + str(e))"
      ],
      "execution_count": 24,
      "outputs": [
        {
          "output_type": "stream",
          "name": "stdout",
          "text": [
            "Caught an exception: can't multiply sequence by non-int of type 'str'\n"
          ]
        }
      ]
    },
    {
      "cell_type": "markdown",
      "metadata": {
        "id": "xww3LNpNlGgx"
      },
      "source": [
        "redefine the `multiply` function using the `lambda` keyword:"
      ]
    },
    {
      "cell_type": "code",
      "metadata": {
        "id": "O9kF0uMblGgx",
        "colab": {
          "base_uri": "https://localhost:8080/"
        },
        "outputId": "50063a98-1e8b-4257-d1d3-2a47feb0937e"
      },
      "source": [
        "multiply = lambda x, y: x*y\n",
        "\n",
        "multiply(2, 3)"
      ],
      "execution_count": 25,
      "outputs": [
        {
          "output_type": "execute_result",
          "data": {
            "text/plain": [
              "6"
            ]
          },
          "metadata": {},
          "execution_count": 25
        }
      ]
    },
    {
      "cell_type": "markdown",
      "metadata": {
        "id": "A-AXLL7nybTC"
      },
      "source": [
        "## Python packages"
      ]
    },
    {
      "cell_type": "markdown",
      "metadata": {
        "id": "2nF78aHgtDVi"
      },
      "source": [
        "### Numpy"
      ]
    },
    {
      "cell_type": "markdown",
      "metadata": {
        "id": "Y5QZm6vklGgx"
      },
      "source": [
        "<img src=\"https://www.avalive.cz/files/ML2/201/numpy.png\"> <br />\n",
        "\n",
        "import the [`numpy`](https://numpy.org/) module and bind the import to the local variable `np` (to avoid name collisions and shorten module name):"
      ]
    },
    {
      "cell_type": "code",
      "metadata": {
        "id": "rU8rA6ualGgx"
      },
      "source": [
        "import numpy as np"
      ],
      "execution_count": 26,
      "outputs": []
    },
    {
      "cell_type": "markdown",
      "metadata": {
        "id": "770FxAWNlGgy"
      },
      "source": [
        "print $ \\sqrt{4} $, $ \\left|-1 \\right| $, $ \\exp{(1)} $, $ \\ln{(e)} $, $ \\sin{(\\pi)}$, and $ \\cos{(\\pi)} $ using the functions from [`numpy`](https://numpy.org/) module:"
      ]
    },
    {
      "cell_type": "code",
      "metadata": {
        "id": "jcV-Rt2-lGgy",
        "colab": {
          "base_uri": "https://localhost:8080/"
        },
        "outputId": "c7aa0604-7dde-47b7-c2fa-9f4ac60a5b11"
      },
      "source": [
        "print(np.sqrt(4), np.abs(-1), np.exp(1), np.log(np.e), np.sin(np.pi), np.cos(np.pi))"
      ],
      "execution_count": 27,
      "outputs": [
        {
          "output_type": "stream",
          "name": "stdout",
          "text": [
            "2.0 1 2.718281828459045 1.0 1.2246467991473532e-16 -1.0\n"
          ]
        }
      ]
    },
    {
      "cell_type": "markdown",
      "metadata": {
        "id": "d5J68iBplGgy"
      },
      "source": [
        "create a vector $ v $ of numbers from $ 1 $ to $ 9 $ using the [`array`](https://numpy.org/doc/stable/reference/generated/numpy.array.html) function:"
      ]
    },
    {
      "cell_type": "code",
      "metadata": {
        "id": "qAy65GWXlGgy",
        "colab": {
          "base_uri": "https://localhost:8080/"
        },
        "outputId": "6c9d2ded-10ee-46f1-b0b9-1d0aedcbeb56"
      },
      "source": [
        "v = np.array([1, 2, 3, 4, 5, 6, 7, 8, 9])\n",
        "print(v)"
      ],
      "execution_count": 28,
      "outputs": [
        {
          "output_type": "stream",
          "name": "stdout",
          "text": [
            "[1 2 3 4 5 6 7 8 9]\n"
          ]
        }
      ]
    },
    {
      "cell_type": "markdown",
      "metadata": {
        "id": "KEUe9XETlGgy"
      },
      "source": [
        "create a $ 3 \\times 3 $ matrix $ \\mathbb{M} $ of numbers from $ 1 $ to $ 9 $ using the [`array`](https://numpy.org/doc/stable/reference/generated/numpy.array.html) function:"
      ]
    },
    {
      "cell_type": "code",
      "metadata": {
        "id": "yOGeAS1elGgz",
        "colab": {
          "base_uri": "https://localhost:8080/"
        },
        "outputId": "30dbb4d1-3289-44a4-ccdf-9546438d656c"
      },
      "source": [
        "M = np.array([[1, 2, 3], [4, 5, 6], [7, 8, 9]])\n",
        "print(M)"
      ],
      "execution_count": 29,
      "outputs": [
        {
          "output_type": "stream",
          "name": "stdout",
          "text": [
            "[[1 2 3]\n",
            " [4 5 6]\n",
            " [7 8 9]]\n"
          ]
        }
      ]
    },
    {
      "cell_type": "markdown",
      "metadata": {
        "id": "-R9vk80ElGgz"
      },
      "source": [
        "print the dimensions of the vector $ v $ and matrix $ \\mathbb{M} $ using the [`shape`](https://numpy.org/doc/stable/reference/generated/numpy.shape.html) function:"
      ]
    },
    {
      "cell_type": "code",
      "metadata": {
        "id": "hB1ayMuPlGgz",
        "colab": {
          "base_uri": "https://localhost:8080/"
        },
        "outputId": "1869b2dc-33cf-4a9e-c47d-975f6e602f87"
      },
      "source": [
        "print(np.shape(v), np.shape(M))"
      ],
      "execution_count": 30,
      "outputs": [
        {
          "output_type": "stream",
          "name": "stdout",
          "text": [
            "(9,) (3, 3)\n"
          ]
        }
      ]
    },
    {
      "cell_type": "markdown",
      "metadata": {
        "id": "e7kXU1_ZlGgz"
      },
      "source": [
        "print number of elements of the vector $ v $ and matrix $ \\mathbb{M} $ using the [`size`](https://numpy.org/doc/stable/reference/generated/numpy.ndarray.size.html) function:"
      ]
    },
    {
      "cell_type": "code",
      "metadata": {
        "scrolled": true,
        "id": "cVOxZRIAlGgz",
        "colab": {
          "base_uri": "https://localhost:8080/"
        },
        "outputId": "a9433ee6-514f-49dd-ca06-98dc0f56a3ff"
      },
      "source": [
        "print(np.size(v), np.size(M))"
      ],
      "execution_count": 31,
      "outputs": [
        {
          "output_type": "stream",
          "name": "stdout",
          "text": [
            "9 9\n"
          ]
        }
      ]
    },
    {
      "cell_type": "markdown",
      "metadata": {
        "id": "9Hh3lhUdlGgz"
      },
      "source": [
        "print the scalar product $ v \\cdot v $ using the [`dot`](https://numpy.org/doc/stable/reference/generated/numpy.dot.html) function (compare with the element-wise multiplication using the operator `*`):"
      ]
    },
    {
      "cell_type": "code",
      "metadata": {
        "id": "dr6ZGrZ5lGg0",
        "colab": {
          "base_uri": "https://localhost:8080/"
        },
        "outputId": "bd163238-9d93-49ec-c04a-725044094b72"
      },
      "source": [
        "print(np.dot(v, v)) # alternatively v @ v\n",
        "print(v * v)"
      ],
      "execution_count": 32,
      "outputs": [
        {
          "output_type": "stream",
          "name": "stdout",
          "text": [
            "285\n",
            "[ 1  4  9 16 25 36 49 64 81]\n"
          ]
        }
      ]
    },
    {
      "cell_type": "markdown",
      "metadata": {
        "id": "YJZ28mO1lGg0"
      },
      "source": [
        "print the matrix product $ \\mathbb{M} \\cdot \\mathbb{M} $ using the [`dot`](https://numpy.org/doc/stable/reference/generated/numpy.dot.html) function (compare with the element-wise multiplication using the operator `*`):"
      ]
    },
    {
      "cell_type": "code",
      "metadata": {
        "scrolled": false,
        "id": "DAzcSabHlGg0",
        "colab": {
          "base_uri": "https://localhost:8080/"
        },
        "outputId": "a9110be7-7555-4abe-c3e2-e98a50340aaa"
      },
      "source": [
        "print(np.dot(M, M))  # alternatively M @ M\n",
        "print(M * M)"
      ],
      "execution_count": 33,
      "outputs": [
        {
          "output_type": "stream",
          "name": "stdout",
          "text": [
            "[[ 30  36  42]\n",
            " [ 66  81  96]\n",
            " [102 126 150]]\n",
            "[[ 1  4  9]\n",
            " [16 25 36]\n",
            " [49 64 81]]\n"
          ]
        }
      ]
    },
    {
      "cell_type": "markdown",
      "metadata": {
        "id": "QVazuARnlGg0"
      },
      "source": [
        "print the first, last, and the sixth element of vector $ v $:"
      ]
    },
    {
      "cell_type": "code",
      "metadata": {
        "scrolled": true,
        "id": "35nTCbvblGg0",
        "colab": {
          "base_uri": "https://localhost:8080/"
        },
        "outputId": "88d1b637-0368-4052-c0cc-e87ebf92757b"
      },
      "source": [
        "print(v[0], v[-1], v[5])"
      ],
      "execution_count": 34,
      "outputs": [
        {
          "output_type": "stream",
          "name": "stdout",
          "text": [
            "1 9 6\n"
          ]
        }
      ]
    },
    {
      "cell_type": "markdown",
      "metadata": {
        "id": "PsnrdTX-lGg1"
      },
      "source": [
        "print the first five, last four, and each second element of vector $ v $ using the numpy array [indexing](https://numpy.org/doc/stable/reference/arrays.indexing.html):"
      ]
    },
    {
      "cell_type": "code",
      "metadata": {
        "id": "LpCYe4MklGg1",
        "colab": {
          "base_uri": "https://localhost:8080/"
        },
        "outputId": "f1d536db-38ae-4d92-c266-4a8f5fe2c357"
      },
      "source": [
        "print(v[:5], v[5:], v[::2])"
      ],
      "execution_count": 36,
      "outputs": [
        {
          "output_type": "stream",
          "name": "stdout",
          "text": [
            "[1 2 3 4 5] [6 7 8 9] [1 3 5 7 9]\n"
          ]
        }
      ]
    },
    {
      "cell_type": "markdown",
      "metadata": {
        "id": "z97gIXqTlGg1"
      },
      "source": [
        "print the $ \\mathbb{M}_{0, 0} $ element, the first row, and the second column of matrix $ \\mathbb{M} $:"
      ]
    },
    {
      "cell_type": "code",
      "metadata": {
        "scrolled": true,
        "id": "RPTWSAVtlGg1",
        "colab": {
          "base_uri": "https://localhost:8080/"
        },
        "outputId": "a4968865-f590-4de1-c27a-353f11ceda3e"
      },
      "source": [
        "print(M[0, 0], M[0, :], M[:, 1])"
      ],
      "execution_count": 37,
      "outputs": [
        {
          "output_type": "stream",
          "name": "stdout",
          "text": [
            "1 [1 2 3] [2 5 8]\n"
          ]
        }
      ]
    },
    {
      "cell_type": "markdown",
      "metadata": {
        "id": "sKiLHrDxlGg1"
      },
      "source": [
        "create evenly spaced vector $ x $ of size $ 5 $ from $ -2 $ to $ 2 $ using the [`linspace`](https://numpy.org/doc/stable/reference/generated/numpy.linspace.html) function"
      ]
    },
    {
      "cell_type": "code",
      "metadata": {
        "id": "ptJ94CQglGg1",
        "colab": {
          "base_uri": "https://localhost:8080/"
        },
        "outputId": "7eb6add6-b31a-43a9-ea85-c00be5cb9dc9"
      },
      "source": [
        "x = np.linspace(-2, 2, 5)\n",
        "print(x)"
      ],
      "execution_count": 38,
      "outputs": [
        {
          "output_type": "stream",
          "name": "stdout",
          "text": [
            "[-2. -1.  0.  1.  2.]\n"
          ]
        }
      ]
    },
    {
      "cell_type": "markdown",
      "metadata": {
        "id": "49qAiMT5lGg2"
      },
      "source": [
        "create evenly spaced vector $ x $ of size $ 5 $ from $ -2 $ to $ 2 $ using the [`linspace`](https://numpy.org/doc/stable/reference/generated/numpy.linspace.html) function and print the step size:"
      ]
    },
    {
      "cell_type": "code",
      "metadata": {
        "id": "u13SEYaulGg2",
        "colab": {
          "base_uri": "https://localhost:8080/"
        },
        "outputId": "fed88611-0809-4a94-c435-3db93c291b2f"
      },
      "source": [
        "x, h = np.linspace(-2, 2, 5, retstep=True)\n",
        "print(h)"
      ],
      "execution_count": 40,
      "outputs": [
        {
          "output_type": "stream",
          "name": "stdout",
          "text": [
            "1.0\n"
          ]
        }
      ]
    },
    {
      "cell_type": "markdown",
      "metadata": {
        "id": "9evRuF6llGg2"
      },
      "source": [
        "create evenly spaced vector $ x $ from $ -2 $ to $ 2 $ with a step of size $ 1 $ using the [`arange`](https://numpy.org/doc/stable/reference/generated/numpy.arange.html) function: "
      ]
    },
    {
      "cell_type": "code",
      "metadata": {
        "id": "kTq6DovIlGg2",
        "colab": {
          "base_uri": "https://localhost:8080/"
        },
        "outputId": "8655abc3-82bc-4ded-8ccf-94accb571f2d"
      },
      "source": [
        "x = np.arange(-2, 2, 1.0)\n",
        "print(x)"
      ],
      "execution_count": 41,
      "outputs": [
        {
          "output_type": "stream",
          "name": "stdout",
          "text": [
            "[-2. -1.  0.  1.]\n"
          ]
        }
      ]
    },
    {
      "cell_type": "markdown",
      "metadata": {
        "id": "Sat4qJJNlGg2"
      },
      "source": [
        "create a matrix from the vector $ x $ using the [`meshgrid`](https://numpy.org/doc/stable/reference/generated/numpy.meshgrid.html) function:"
      ]
    },
    {
      "cell_type": "code",
      "metadata": {
        "id": "xCREOGfhlGg3",
        "colab": {
          "base_uri": "https://localhost:8080/"
        },
        "outputId": "e56e3f8d-8fb9-48c4-83bd-7845a12bce2f"
      },
      "source": [
        "xx, yy = np.meshgrid(x, x)\n",
        "print(xx)\n",
        "print(yy)"
      ],
      "execution_count": 42,
      "outputs": [
        {
          "output_type": "stream",
          "name": "stdout",
          "text": [
            "[[-2. -1.  0.  1.]\n",
            " [-2. -1.  0.  1.]\n",
            " [-2. -1.  0.  1.]\n",
            " [-2. -1.  0.  1.]]\n",
            "[[-2. -2. -2. -2.]\n",
            " [-1. -1. -1. -1.]\n",
            " [ 0.  0.  0.  0.]\n",
            " [ 1.  1.  1.  1.]]\n"
          ]
        }
      ]
    },
    {
      "cell_type": "markdown",
      "metadata": {
        "id": "dycP0vpolGg3"
      },
      "source": [
        "create a vector of zeros of size $ 3 $ using the [`zeros`](https://numpy.org/doc/stable/reference/generated/numpy.zeros.html) function:"
      ]
    },
    {
      "cell_type": "code",
      "metadata": {
        "scrolled": true,
        "id": "XfSiNRsJlGg3",
        "colab": {
          "base_uri": "https://localhost:8080/"
        },
        "outputId": "7d5c8a7f-189a-4ec3-d9f8-fe97d3fbb92c"
      },
      "source": [
        "z = np.zeros(3)\n",
        "print(z)"
      ],
      "execution_count": 43,
      "outputs": [
        {
          "output_type": "stream",
          "name": "stdout",
          "text": [
            "[0. 0. 0.]\n"
          ]
        }
      ]
    },
    {
      "cell_type": "markdown",
      "metadata": {
        "id": "J_4lfmunlGg3"
      },
      "source": [
        "create a $ 3 \\times 3$ matrix of zeros using the [`zeros`](https://numpy.org/doc/stable/reference/generated/numpy.zeros.html) function:"
      ]
    },
    {
      "cell_type": "code",
      "metadata": {
        "scrolled": true,
        "id": "vdWDsdrqlGg3",
        "colab": {
          "base_uri": "https://localhost:8080/"
        },
        "outputId": "c1ba56a5-af76-4ab0-e6b8-886933510cef"
      },
      "source": [
        "Z = np.zeros((3, 3))\n",
        "print(Z)"
      ],
      "execution_count": 44,
      "outputs": [
        {
          "output_type": "stream",
          "name": "stdout",
          "text": [
            "[[0. 0. 0.]\n",
            " [0. 0. 0.]\n",
            " [0. 0. 0.]]\n"
          ]
        }
      ]
    },
    {
      "cell_type": "markdown",
      "metadata": {
        "id": "291Kb8Z0lGg3"
      },
      "source": [
        "create a $ 3 \\times 3 $ matrix with ones on the diagonal and zeros elsewhere using the [`eye`](https://numpy.org/doc/stable/reference/generated/numpy.eye.html) function:"
      ]
    },
    {
      "cell_type": "code",
      "metadata": {
        "scrolled": true,
        "id": "JRGNX6OzlGg4",
        "colab": {
          "base_uri": "https://localhost:8080/"
        },
        "outputId": "8fc69c24-af85-4b0d-9af6-ebead9244e79"
      },
      "source": [
        "D = np.eye(3)\n",
        "print(D)"
      ],
      "execution_count": 45,
      "outputs": [
        {
          "output_type": "stream",
          "name": "stdout",
          "text": [
            "[[1. 0. 0.]\n",
            " [0. 1. 0.]\n",
            " [0. 0. 1.]]\n"
          ]
        }
      ]
    },
    {
      "cell_type": "markdown",
      "metadata": {
        "id": "JIyAAn3IlGg4"
      },
      "source": [
        "create a $ 3 \\times 3 $ matrix filled with ones using the [`ones`](https://numpy.org/doc/stable/reference/generated/numpy.ones.html) function:"
      ]
    },
    {
      "cell_type": "code",
      "metadata": {
        "scrolled": true,
        "id": "vDCPNRFYlGg4",
        "colab": {
          "base_uri": "https://localhost:8080/"
        },
        "outputId": "e7df6858-1603-4614-cb71-bdc0344a602e"
      },
      "source": [
        "O = np.ones((3, 3))\n",
        "print(O)"
      ],
      "execution_count": 46,
      "outputs": [
        {
          "output_type": "stream",
          "name": "stdout",
          "text": [
            "[[1. 1. 1.]\n",
            " [1. 1. 1.]\n",
            " [1. 1. 1.]]\n"
          ]
        }
      ]
    },
    {
      "cell_type": "markdown",
      "metadata": {
        "id": "s0KqBfbGlGg4"
      },
      "source": [
        "create a $ 3 \\times 3 $ matrix filled with random floating point numbers between $ 0 $ and $ 1 $ using the [`rand`](https://numpy.org/doc/stable/reference/random/generated/numpy.random.rand.html) function:"
      ]
    },
    {
      "cell_type": "code",
      "metadata": {
        "id": "Wx1xi9NblGg4",
        "colab": {
          "base_uri": "https://localhost:8080/"
        },
        "outputId": "ceca7ea0-21be-4841-e774-be3848ca194b"
      },
      "source": [
        "R = np.random.rand(3, 3)\n",
        "print(R)"
      ],
      "execution_count": 47,
      "outputs": [
        {
          "output_type": "stream",
          "name": "stdout",
          "text": [
            "[[0.66632141 0.96148621 0.87144956]\n",
            " [0.23627801 0.25905126 0.99636911]\n",
            " [0.77502217 0.04270887 0.78908196]]\n"
          ]
        }
      ]
    },
    {
      "cell_type": "markdown",
      "metadata": {
        "id": "DKpWxX9dlGg5"
      },
      "source": [
        "create a $ 3 \\times 3 $ matrix with the vector $ (1, 2, 3) $ on the diagonal using the [`diag`](https://numpy.org/doc/stable/reference/generated/numpy.diag.html) function:"
      ]
    },
    {
      "cell_type": "code",
      "metadata": {
        "scrolled": false,
        "id": "gnxXwVVTlGg5",
        "colab": {
          "base_uri": "https://localhost:8080/"
        },
        "outputId": "efd85ec8-c10e-4605-8583-6f55f4988242"
      },
      "source": [
        "print(np.diag([1,2,3], 0))"
      ],
      "execution_count": 48,
      "outputs": [
        {
          "output_type": "stream",
          "name": "stdout",
          "text": [
            "[[1 0 0]\n",
            " [0 2 0]\n",
            " [0 0 3]]\n"
          ]
        }
      ]
    },
    {
      "cell_type": "markdown",
      "metadata": {
        "id": "-D39uiZulGg5"
      },
      "source": [
        "extract the main diagonal, and the diagonals above and below the main diagonal from matrix $ \\mathbb{M} $ using the [`diag`](https://numpy.org/doc/stable/reference/generated/numpy.diag.html) function:"
      ]
    },
    {
      "cell_type": "code",
      "metadata": {
        "id": "SAUG6DgZlGg5",
        "colab": {
          "base_uri": "https://localhost:8080/"
        },
        "outputId": "12d9437a-76be-4eae-c2a9-89f2c6116e06"
      },
      "source": [
        "print(np.diag(M, 0), np.diag(M, 1), np.diag(M, -1))"
      ],
      "execution_count": 49,
      "outputs": [
        {
          "output_type": "stream",
          "name": "stdout",
          "text": [
            "[1 5 9] [2 6] [4 8]\n"
          ]
        }
      ]
    },
    {
      "cell_type": "markdown",
      "metadata": {
        "id": "l8FN6ooMlGg5"
      },
      "source": [
        "set all elements of matrix $ \\mathbb{M} $ below and above diagonal to zero using the [`triu`](https://numpy.org/doc/stable/reference/generated/numpy.triu.html) and [`tril`](https://numpy.org/doc/stable/reference/generated/numpy.tril.html) functions:"
      ]
    },
    {
      "cell_type": "code",
      "metadata": {
        "id": "dq-mKo1flGg5",
        "colab": {
          "base_uri": "https://localhost:8080/"
        },
        "outputId": "a675cc7a-5b88-4c1f-d47a-6b4b294b2303"
      },
      "source": [
        "print(np.triu(M))\n",
        "print(np.tril(M))"
      ],
      "execution_count": 50,
      "outputs": [
        {
          "output_type": "stream",
          "name": "stdout",
          "text": [
            "[[1 2 3]\n",
            " [0 5 6]\n",
            " [0 0 9]]\n",
            "[[1 0 0]\n",
            " [4 5 0]\n",
            " [7 8 9]]\n"
          ]
        }
      ]
    },
    {
      "cell_type": "markdown",
      "metadata": {
        "id": "1DK1K5USlGg6"
      },
      "source": [
        "print minimum and maximum elements, index of minimum and maximum elements, and the sum of vector $ v $ using the [`min`](https://numpy.org/doc/stable/reference/generated/numpy.ndarray.min.html), [`max`](https://numpy.org/doc/stable/reference/generated/numpy.ndarray.max.html), [`argmin`](https://numpy.org/doc/stable/reference/generated/numpy.argmin.html), [`argmax`](https://numpy.org/doc/stable/reference/generated/numpy.argmax.html), and [`sum`](https://numpy.org/doc/stable/reference/generated/numpy.sum.html) functions:"
      ]
    },
    {
      "cell_type": "code",
      "metadata": {
        "id": "4NNt1RkclGg6",
        "colab": {
          "base_uri": "https://localhost:8080/"
        },
        "outputId": "16946704-47de-4844-fbd1-07f5e07d9d42"
      },
      "source": [
        "print(np.min(v), np.max(v), np.argmin(v), np.argmax(v), np.sum(v))"
      ],
      "execution_count": 51,
      "outputs": [
        {
          "output_type": "stream",
          "name": "stdout",
          "text": [
            "1 9 0 8 45\n"
          ]
        }
      ]
    },
    {
      "cell_type": "markdown",
      "metadata": {
        "id": "Zi-Ea5S9lGg6"
      },
      "source": [
        "print even numbers of vector $ v $ and their indices using the [`where`](https://numpy.org/doc/stable/reference/generated/numpy.where.html), and [`mod`](https://numpy.org/doc/stable/reference/generated/numpy.mod.html) functions:"
      ]
    },
    {
      "cell_type": "code",
      "metadata": {
        "scrolled": false,
        "id": "FTBBXIUtlGg6",
        "colab": {
          "base_uri": "https://localhost:8080/"
        },
        "outputId": "5f6a566c-0bb5-40f0-895a-1d5012b06ef4"
      },
      "source": [
        "even = np.where(np.mod(v, 2) == 0)\n",
        "print(v[even])"
      ],
      "execution_count": 52,
      "outputs": [
        {
          "output_type": "stream",
          "name": "stdout",
          "text": [
            "[2 4 6 8]\n"
          ]
        }
      ]
    },
    {
      "cell_type": "markdown",
      "metadata": {
        "id": "IhwdXa9jlGg7"
      },
      "source": [
        "assign vector $ v $ to vector $ v_2 $ using the `=` operator (note that if you modify one in place, you'll see the change through the other one too):"
      ]
    },
    {
      "cell_type": "code",
      "metadata": {
        "scrolled": true,
        "id": "PpVCeHE7lGg7",
        "colab": {
          "base_uri": "https://localhost:8080/"
        },
        "outputId": "2c023d5a-f0a3-4c19-b8f5-746d0b17b409"
      },
      "source": [
        "v2 = v\n",
        "v2[0] = -1\n",
        "print(v)\n",
        "print(v2)"
      ],
      "execution_count": 53,
      "outputs": [
        {
          "output_type": "stream",
          "name": "stdout",
          "text": [
            "[-1  2  3  4  5  6  7  8  9]\n",
            "[-1  2  3  4  5  6  7  8  9]\n"
          ]
        }
      ]
    },
    {
      "cell_type": "markdown",
      "metadata": {
        "id": "ofDeyf2zlGg7"
      },
      "source": [
        "copy the vector $ v $ to vector $ v_3 $ using the [`copy`](https://numpy.org/doc/stable/reference/generated/numpy.copy.html) function:"
      ]
    },
    {
      "cell_type": "code",
      "metadata": {
        "id": "vqe7fNbHlGg7",
        "colab": {
          "base_uri": "https://localhost:8080/"
        },
        "outputId": "251215e8-378e-4d25-cd96-53bc49cdf428"
      },
      "source": [
        "v3 = np.copy(v)\n",
        "v3[0] = -2\n",
        "print(v)\n",
        "print(v3)"
      ],
      "execution_count": 54,
      "outputs": [
        {
          "output_type": "stream",
          "name": "stdout",
          "text": [
            "[-1  2  3  4  5  6  7  8  9]\n",
            "[-2  2  3  4  5  6  7  8  9]\n"
          ]
        }
      ]
    },
    {
      "cell_type": "markdown",
      "metadata": {
        "id": "7yODC90WlGg7"
      },
      "source": [
        "create vector $ v_4 $ by appending $ 0 $ to the end of vector $ v $ using the [`append`](https://numpy.org/doc/stable/reference/generated/numpy.append.html) function:"
      ]
    },
    {
      "cell_type": "code",
      "metadata": {
        "id": "j1f9Ke0slGg8",
        "colab": {
          "base_uri": "https://localhost:8080/"
        },
        "outputId": "891bf8ad-41d4-4776-f865-4c82aa56bc24"
      },
      "source": [
        "v4 = np.append(v, 0)\n",
        "print(v4)"
      ],
      "execution_count": 55,
      "outputs": [
        {
          "output_type": "stream",
          "name": "stdout",
          "text": [
            "[-1  2  3  4  5  6  7  8  9  0]\n"
          ]
        }
      ]
    },
    {
      "cell_type": "markdown",
      "metadata": {
        "id": "Ss4mGoGKlGg8"
      },
      "source": [
        "create vector $ v_5 $ by inserting $ -5 $ as a sixth element to vector $ v $ using the [`insert`](https://numpy.org/doc/stable/reference/generated/numpy.insert.html) function:"
      ]
    },
    {
      "cell_type": "code",
      "metadata": {
        "scrolled": false,
        "id": "Uti2pbF0lGg8",
        "colab": {
          "base_uri": "https://localhost:8080/"
        },
        "outputId": "f40e7328-795b-4999-b034-1b526986cce3"
      },
      "source": [
        "v5 = np.insert(v, 5, -5)\n",
        "print(v5)"
      ],
      "execution_count": 56,
      "outputs": [
        {
          "output_type": "stream",
          "name": "stdout",
          "text": [
            "[-1  2  3  4  5 -5  6  7  8  9]\n"
          ]
        }
      ]
    },
    {
      "cell_type": "markdown",
      "metadata": {
        "id": "7QhfVVjAlGg8"
      },
      "source": [
        "create vector $ v_6 $ by concatenating vectors $ v_4 $ and $ v_5 $ using the [`concatenate`](https://numpy.org/doc/stable/reference/generated/numpy.concatenate.html) function:"
      ]
    },
    {
      "cell_type": "code",
      "metadata": {
        "id": "SemlWfOplGg8",
        "colab": {
          "base_uri": "https://localhost:8080/"
        },
        "outputId": "04d4d594-b373-4dd0-d22d-c2719cf747db"
      },
      "source": [
        "v6 = np.concatenate((v4, v5))\n",
        "print(v6)"
      ],
      "execution_count": 57,
      "outputs": [
        {
          "output_type": "stream",
          "name": "stdout",
          "text": [
            "[-1  2  3  4  5  6  7  8  9  0 -1  2  3  4  5 -5  6  7  8  9]\n"
          ]
        }
      ]
    },
    {
      "cell_type": "markdown",
      "metadata": {
        "id": "XcIfcSo4lGg9"
      },
      "source": [
        "create polynomial $ p = x^3 + 2x^2 + 3x + 2 $ using the [`poly1d`](https://numpy.org/doc/stable/reference/generated/numpy.poly1d.html) function:"
      ]
    },
    {
      "cell_type": "code",
      "metadata": {
        "scrolled": true,
        "id": "PG45AX6VlGg9",
        "colab": {
          "base_uri": "https://localhost:8080/"
        },
        "outputId": "e8ca60c0-a83f-4d4d-ef4a-e166487e8a3f"
      },
      "source": [
        "p = np.poly1d([1, 2, 3, 2])\n",
        "print(p)"
      ],
      "execution_count": 58,
      "outputs": [
        {
          "output_type": "stream",
          "name": "stdout",
          "text": [
            "   3     2\n",
            "1 x + 2 x + 3 x + 2\n"
          ]
        }
      ]
    },
    {
      "cell_type": "markdown",
      "metadata": {
        "id": "sOj38Y9TlGg9"
      },
      "source": [
        "Further reading: https://numpy.org/doc/stable/reference/"
      ]
    },
    {
      "cell_type": "markdown",
      "metadata": {
        "id": "HZiWgUu2lGg9"
      },
      "source": [
        "### Scipy"
      ]
    },
    {
      "cell_type": "markdown",
      "metadata": {
        "id": "7N4mPtFPlGg9"
      },
      "source": [
        "<img src=\"https://www.avalive.cz/files/ML2/201/scipy.png\"> <br />\n",
        "\n",
        "import scientific constants from the [`scipy`](https://www.scipy.org/) module and print $ \\pi $, golden_ratio, and speed of light in vacuum:"
      ]
    },
    {
      "cell_type": "code",
      "metadata": {
        "id": "Fg3g4unHlGg9",
        "colab": {
          "base_uri": "https://localhost:8080/"
        },
        "outputId": "f8216242-3c71-4299-e186-f4eca4d57e7d"
      },
      "source": [
        "from scipy.constants import pi, golden_ratio, c\n",
        "print(pi, golden_ratio, c)"
      ],
      "execution_count": 59,
      "outputs": [
        {
          "output_type": "stream",
          "name": "stdout",
          "text": [
            "3.141592653589793 1.618033988749895 299792458.0\n"
          ]
        }
      ]
    },
    {
      "cell_type": "markdown",
      "metadata": {
        "id": "EZ3qjH7MlGg-"
      },
      "source": [
        "import various submodules from [`scipy`](https://www.scipy.org/) that will be useful throughout the course: "
      ]
    },
    {
      "cell_type": "code",
      "metadata": {
        "id": "RIKsrCp7lGg-"
      },
      "source": [
        "import scipy.linalg # linear algebra\n",
        "import scipy.interpolate # interpolation and curve fitting\n",
        "import scipy.optimize # minima, maxima, root finding\n",
        "import scipy.integrate # numerical integration and solving of ODEs"
      ],
      "execution_count": 60,
      "outputs": []
    },
    {
      "cell_type": "markdown",
      "metadata": {
        "id": "MOroMTfZlGg-"
      },
      "source": [
        "Further reading: https://docs.scipy.org/doc/scipy/reference/"
      ]
    },
    {
      "cell_type": "markdown",
      "metadata": {
        "id": "Cz9AKYehlGg-"
      },
      "source": [
        "### Matplotlib"
      ]
    },
    {
      "cell_type": "markdown",
      "metadata": {
        "id": "JaBaUQg3lGg-"
      },
      "source": [
        "<img src=\"https://www.avalive.cz/files/ML2/201/matplotlib.png\"> <br />\n",
        "\n",
        "\n",
        "import [`pyplot`](https://matplotlib.org/stable/api/_as_gen/matplotlib.pyplot.html) submodule from [`matplotlib`](https://matplotlib.org/) and bind the import to the local variable `plt`:"
      ]
    },
    {
      "cell_type": "code",
      "metadata": {
        "id": "Lg1OkCxmlGg-"
      },
      "source": [
        "import matplotlib.pyplot as plt"
      ],
      "execution_count": 61,
      "outputs": []
    },
    {
      "cell_type": "markdown",
      "metadata": {
        "id": "nILyiZWtlGg_"
      },
      "source": [
        "plot $ \\sin{(x)} $ and $ \\cos{(x)} $ functions for $ x \\in [0, 10] $ using the [`plot`](https://matplotlib.org/stable/api/_as_gen/matplotlib.pyplot.plot.html) function:"
      ]
    },
    {
      "cell_type": "code",
      "metadata": {
        "id": "PUNWdqmdlGg_",
        "colab": {
          "base_uri": "https://localhost:8080/",
          "height": 265
        },
        "outputId": "249e31c8-24aa-41eb-9d6e-a7ef11ecac25"
      },
      "source": [
        "x = np.linspace(0, 10, 100)\n",
        "\n",
        "fig, ax = plt.subplots()\n",
        "ax.plot(x, np.sin(x))\n",
        "ax.plot(x, np.cos(x))\n",
        "plt.show()"
      ],
      "execution_count": 62,
      "outputs": [
        {
          "output_type": "display_data",
          "data": {
            "image/png": "[encoded data removed]",
            "text/plain": [
              "<Figure size 432x288 with 1 Axes>"
            ]
          },
          "metadata": {
            "needs_background": "light"
          }
        }
      ]
    },
    {
      "cell_type": "markdown",
      "metadata": {
        "id": "v8DnDItmlGhA"
      },
      "source": [
        "plot the functions $ y(x) = x $ and $ y(x) = x^2 $ for $ x \\in [0, 10] $ and show the plots next to each other:"
      ]
    },
    {
      "cell_type": "code",
      "metadata": {
        "scrolled": true,
        "id": "e5IJ6PzzlGhA",
        "colab": {
          "base_uri": "https://localhost:8080/",
          "height": 297
        },
        "outputId": "bf03c90e-d5ca-4391-8e33-8fc3f34885da"
      },
      "source": [
        "fig, ax = plt.subplots(nrows=1, ncols=2)\n",
        "\n",
        "ax[0].plot(x, x, color=\"green\")\n",
        "ax[0].set_xlabel(\"x\")\n",
        "ax[0].set_ylabel(\"y\")\n",
        "\n",
        "ax[1].plot(x, x**2, color=\"blue\")\n",
        "ax[1].set_xlabel(\"x\")\n",
        "ax[1].set_ylabel(\"y\")\n",
        "    \n",
        "fig.tight_layout()\n",
        "plt.show()"
      ],
      "execution_count": 63,
      "outputs": [
        {
          "output_type": "display_data",
          "data": {
            "image/png": "[encoded data removed]",
            "text/plain": [
              "<Figure size 432x288 with 2 Axes>"
            ]
          },
          "metadata": {
            "needs_background": "light"
          }
        }
      ]
    },
    {
      "cell_type": "markdown",
      "metadata": {
        "id": "LcIRIas6lGhB"
      },
      "source": [
        "save the figure above as \"figure.png\":"
      ]
    },
    {
      "cell_type": "code",
      "metadata": {
        "id": "KbINFANSlGhB"
      },
      "source": [
        "fig.savefig(\"figure.png\", dpi=100)"
      ],
      "execution_count": 64,
      "outputs": []
    },
    {
      "cell_type": "markdown",
      "metadata": {
        "id": "xm77m7SnlGhB"
      },
      "source": [
        "create a 2D plot of Gaussian function, $ f(x, y) = \\exp{(-ax^2 - by^2)} $, for $ x, y \\in [-2, 2] $ using the [`pcolormesh`](https://matplotlib.org/stable/api/_as_gen/matplotlib.pyplot.pcolormesh.html) function:"
      ]
    },
    {
      "cell_type": "code",
      "metadata": {
        "scrolled": true,
        "id": "tZRMgvoolGhB",
        "colab": {
          "base_uri": "https://localhost:8080/",
          "height": 295
        },
        "outputId": "60c89bc2-7f12-4b31-8606-6dcd8047da4c"
      },
      "source": [
        "a = 1 #@param {type:\"slider\", min:0, max:5, step:0.1}\n",
        "b = 1 #@param {type:\"slider\", min:0, max:5, step:0.1}\n",
        "\n",
        "x = np.linspace(-2, 2, 100)\n",
        "y = np.linspace(-2, 2, 100)\n",
        "xx, yy = np.meshgrid(x, y)\n",
        "function = np.exp(-a*xx**2 - b*yy**2)\n",
        "\n",
        "fig, ax = plt.subplots()\n",
        "img = ax.pcolormesh(x, y, function, cmap=\"jet\", shading=\"gouraud\")\n",
        "ax.set_title(\"2D plot of Gaussian function\")\n",
        "ax.set_xlabel(\"x\")\n",
        "ax.set_ylabel(\"y\")\n",
        "\n",
        "cbar = plt.colorbar(img)\n",
        "cbar.set_label(label=r\"$ exp(-ax^2 - by^2) $\", fontsize=12)\n",
        "\n",
        "plt.show()"
      ],
      "execution_count": 66,
      "outputs": [
        {
          "output_type": "display_data",
          "data": {
            "image/png": "[encoded data removed]",
            "text/plain": [
              "<Figure size 432x288 with 2 Axes>"
            ]
          },
          "metadata": {
            "needs_background": "light"
          }
        }
      ]
    },
    {
      "cell_type": "markdown",
      "metadata": {
        "collapsed": true,
        "id": "UcivmkNylGhC"
      },
      "source": [
        "Further reading: https://matplotlib.org/"
      ]
    },
    {
      "cell_type": "markdown",
      "metadata": {
        "id": "Lj3F_lOp8NG_"
      },
      "source": [
        "### Pandas"
      ]
    },
    {
      "cell_type": "markdown",
      "metadata": {
        "id": "OTgP50S5B0HZ"
      },
      "source": [
        "<img src=\"https://www.avalive.cz/files/ML2/201/pandas2.png\">"
      ]
    },
    {
      "cell_type": "code",
      "metadata": {
        "id": "seEz5O-d8MdR",
        "colab": {
          "base_uri": "https://localhost:8080/",
          "height": 172
        },
        "outputId": "5c17370c-812e-4e94-abba-6f01ed296984"
      },
      "source": [
        "import pandas as pd\n",
        "data = {\n",
        "    'apples': [3, 2, 0, 1], \n",
        "    'oranges': [0, 3, 7, 2]\n",
        "}\n",
        "purchases = pd.DataFrame(data)\n",
        "purchases = pd.DataFrame(data, index=['June', 'Robert', 'Lily', 'David'])\n",
        "\n",
        "purchases"
      ],
      "execution_count": 67,
      "outputs": [
        {
          "output_type": "execute_result",
          "data": {
            "text/html": [
              "<div>\n",
              "<style scoped>\n",
              "    .dataframe tbody tr th:only-of-type {\n",
              "        vertical-align: middle;\n",
              "    }\n",
              "\n",
              "    .dataframe tbody tr th {\n",
              "        vertical-align: top;\n",
              "    }\n",
              "\n",
              "    .dataframe thead th {\n",
              "        text-align: right;\n",
              "    }\n",
              "</style>\n",
              "<table border=\"1\" class=\"dataframe\">\n",
              "  <thead>\n",
              "    <tr style=\"text-align: right;\">\n",
              "      <th></th>\n",
              "      <th>apples</th>\n",
              "      <th>oranges</th>\n",
              "    </tr>\n",
              "  </thead>\n",
              "  <tbody>\n",
              "    <tr>\n",
              "      <th>June</th>\n",
              "      <td>3</td>\n",
              "      <td>0</td>\n",
              "    </tr>\n",
              "    <tr>\n",
              "      <th>Robert</th>\n",
              "      <td>2</td>\n",
              "      <td>3</td>\n",
              "    </tr>\n",
              "    <tr>\n",
              "      <th>Lily</th>\n",
              "      <td>0</td>\n",
              "      <td>7</td>\n",
              "    </tr>\n",
              "    <tr>\n",
              "      <th>David</th>\n",
              "      <td>1</td>\n",
              "      <td>2</td>\n",
              "    </tr>\n",
              "  </tbody>\n",
              "</table>\n",
              "</div>"
            ],
            "text/plain": [
              "        apples  oranges\n",
              "June         3        0\n",
              "Robert       2        3\n",
              "Lily         0        7\n",
              "David        1        2"
            ]
          },
          "metadata": {},
          "execution_count": 67
        }
      ]
    },
    {
      "cell_type": "code",
      "metadata": {
        "id": "DcbNO0cTEvM8",
        "colab": {
          "base_uri": "https://localhost:8080/"
        },
        "outputId": "d7e754de-06e9-4bb3-e482-b8080d981b77"
      },
      "source": [
        "purchases.loc['June']"
      ],
      "execution_count": 68,
      "outputs": [
        {
          "output_type": "execute_result",
          "data": {
            "text/plain": [
              "apples     3\n",
              "oranges    0\n",
              "Name: June, dtype: int64"
            ]
          },
          "metadata": {},
          "execution_count": 68
        }
      ]
    },
    {
      "cell_type": "markdown",
      "metadata": {
        "id": "RPgpbtCAE-oH"
      },
      "source": [
        "Further reading: [Pandas cheat sheet](https://pandas.pydata.org/Pandas_Cheat_Sheet.pdf)"
      ]
    },
    {
      "cell_type": "markdown",
      "metadata": {
        "id": "22Apuzh68Qw0"
      },
      "source": [
        "### Scikit-learn"
      ]
    },
    {
      "cell_type": "markdown",
      "metadata": {
        "id": "w7l1LUsJ8Vpv"
      },
      "source": [
        "<img src=\"https://www.avalive.cz/files/ML2/201/scikit.png\">\n",
        "\n",
        "[Scikit-learn](https://scikit-learn.org/stable/index.html) (also known as sklearn) is a free software machine learning library for Python. We will jump into it in the next Part."
      ]
    },
    {
      "cell_type": "markdown",
      "metadata": {
        "id": "ydzttFPiGkES"
      },
      "source": [
        "## ✍🏼 Excercise 201.4a"
      ]
    },
    {
      "cell_type": "markdown",
      "metadata": {
        "id": "naxl-aCQGkES"
      },
      "source": [
        "*Plot $ \\sin{(x)} $ and $ \\cos{(x)} $ functions for $ x \\in [0, 10] $ using the [`plot`](https://matplotlib.org/stable/api/_as_gen/matplotlib.pyplot.plot.html) function.*\n",
        "\n",
        "*Change the linestyles, axes labels, and add legend exactly as it is in this figure:*\n",
        "\n",
        "<img src=\"https://www.avalive.cz/files/ML2/201/e2014a.png\">\n"
      ]
    },
    {
      "cell_type": "markdown",
      "metadata": {
        "id": "ZlMBlpTnpsXE"
      },
      "source": [
        "<h3>Add your code...</h3>"
      ]
    },
    {
      "cell_type": "markdown",
      "metadata": {
        "id": "wdzBptJ2D-UC"
      },
      "source": [
        "## ✍🏼 Excercise 201.4b"
      ]
    },
    {
      "cell_type": "markdown",
      "metadata": {
        "id": "ZTMQvfx5D-UD"
      },
      "source": [
        "*Use [`pandas`](https://pandas.pydata.org/docs/index.html) library for all tasks in this exercise.*\n",
        "\n",
        "*Create a [`DataFrame`](https://pandas.pydata.org/docs/reference/api/pandas.DataFrame.html) from the following table (three columns: 'Name', 'Age', 'Rating'):*\n",
        "\n",
        "```\n",
        "print(df)\n",
        "```\n",
        "\n",
        "<img src=\"https://www.avalive.cz/files/ML2/201/pan_table.png\">\n",
        "\n",
        "*Calculate mean of the numerical columns. \n",
        "<br />Result:*\n",
        "\n",
        "<img src=\"https://www.avalive.cz/files/ML2/201/pandas_mean.png\">\n",
        "\n",
        "*Calculate standard deviation of the numerical columns. \n",
        "<br />Result:*\n",
        "\n",
        "<img src=\"https://www.avalive.cz/files/ML2/201/pandas_std.png\">\n",
        "\n",
        "*Sort DataFrame based on the 'Age' column.\n",
        "<br />Result:*\n",
        "\n",
        "<img src=\"https://www.avalive.cz/files/ML2/201/pandas_sort.png\">\n",
        "\n"
      ]
    },
    {
      "cell_type": "markdown",
      "metadata": {
        "id": "JtiS1aPUpm-E"
      },
      "source": [
        "<h3>Add your code...</h3>"
      ]
    },
    {
      "cell_type": "markdown",
      "metadata": {
        "id": "h1UbxeZ8mL_s"
      },
      "source": [
        "# Part 5: Machine learning with Python\n",
        "\n"
      ]
    },
    {
      "cell_type": "markdown",
      "metadata": {
        "id": "8DuaTN-x6wHn"
      },
      "source": [
        "<img src=\"https://www.avalive.cz/files/ML2/201/ml_overview.png\">\n",
        "\n",
        "## Machine Learning applications\n",
        "\n",
        "<img src=\"https://www.avalive.cz/files/ML2/201/ml_apl.png\">\n",
        "\n",
        "\n",
        "\n"
      ]
    },
    {
      "cell_type": "markdown",
      "metadata": {
        "id": "WH1ImfcsdsMm"
      },
      "source": [
        "## Regression\n",
        "is about fitting a shape that gets as close to the data as possible.\n",
        "\n",
        "![](https://miro.medium.com/max/700/1*zJ_93quqoLrr5mhQwg_Qrw.png)"
      ]
    },
    {
      "cell_type": "markdown",
      "metadata": {
        "id": "xm4Y9U10SyAs"
      },
      "source": [
        "##Classification \n",
        "is about separating data into classes.\n",
        "\n",
        "![](https://miro.medium.com/max/700/0*Xqmluj4gGNBd8GEC.png)\n",
        "\n"
      ]
    },
    {
      "cell_type": "markdown",
      "metadata": {
        "id": "mTn2w5HfSnXA"
      },
      "source": [
        "## Basic steps\n",
        "<img src=\"https://www.avalive.cz/files/ML2/201/ml_steps.png\">"
      ]
    },
    {
      "cell_type": "markdown",
      "metadata": {
        "id": "xXohBl3ZSz9I"
      },
      "source": [
        "## Linear regression"
      ]
    },
    {
      "cell_type": "code",
      "metadata": {
        "id": "IaV4TkB16v3D",
        "colab": {
          "base_uri": "https://localhost:8080/",
          "height": 267
        },
        "outputId": "4eebad53-953e-4607-81c4-dccbb9f579e7"
      },
      "source": [
        "import numpy as np\n",
        "from sklearn.linear_model import LinearRegression\n",
        "import matplotlib.pyplot as plt\n",
        "from sklearn.model_selection import train_test_split\n",
        "from sklearn import datasets, metrics\n",
        "\n",
        "# 1. Prepare data \n",
        "X, y = datasets.make_regression(n_samples=100, n_features=1, noise=20, random_state=4)\n",
        "\n",
        "# 2. Split data \n",
        "X_train, X_test, y_train, y_test = train_test_split(X, y, test_size=0.2, random_state=1234)\n",
        "\n",
        "# 3. Design a model\n",
        "regressor = LinearRegression()\n",
        "\n",
        "# 4. Train a model\n",
        "regressor.fit(X_train, y_train)\n",
        "\n",
        "# 5. Make predictions\n",
        "predictions = regressor.predict(X_test)\n",
        "\n",
        "# 6. Evaluate predictions (visually)\n",
        "fig = plt.figure()\n",
        "m1 = plt.scatter(X_train, y_train)\n",
        "m2 = plt.scatter(X_test, y_test)\n",
        "y_pred_line = regressor.predict(X)\n",
        "plt.plot(X, y_pred_line, color=\"black\")\n",
        "plt.show()"
      ],
      "execution_count": null,
      "outputs": [
        {
          "output_type": "display_data",
          "data": {
            "image/png": "[encoded data removed]",
            "text/plain": [
              "<Figure size 432x288 with 1 Axes>"
            ]
          },
          "metadata": {
            "needs_background": "light"
          }
        }
      ]
    },
    {
      "cell_type": "code",
      "metadata": {
        "id": "8ysuBx2HSomt",
        "colab": {
          "base_uri": "https://localhost:8080/"
        },
        "outputId": "9cb53759-0cdc-4e66-dd22-a40a7e2f188d"
      },
      "source": [
        "# 6. Evaluate predictions (numerically)\n",
        "mse = np.mean((y_test - predictions) ** 2) \n",
        "print(\"Mean squared error:\", mse)\n",
        "\n",
        "accu = metrics.r2_score(y_test, predictions)\n",
        "print(f\"Accuracy (r2 score): {accu*100:.2f} %\")"
      ],
      "execution_count": null,
      "outputs": [
        {
          "output_type": "stream",
          "name": "stdout",
          "text": [
            "Mean squared error: 305.7741316228642\n",
            "Accuracy (r2 score): 92.48 %\n"
          ]
        }
      ]
    },
    {
      "cell_type": "markdown",
      "metadata": {
        "id": "_GxW1QpkoiaA"
      },
      "source": [
        "## Support-vector machine (SVM)\n"
      ]
    },
    {
      "cell_type": "markdown",
      "metadata": {
        "id": "hi4gt9_sk0L-"
      },
      "source": [
        "<img src=\"https://www.avalive.cz/files/ML2/201/svm1.png\">\n",
        "<img src=\"https://www.avalive.cz/files/ML2/201/svm4.jpg\">\n",
        "<img src=\"https://www.avalive.cz/files/ML2/201/svmm.png\">"
      ]
    },
    {
      "cell_type": "markdown",
      "metadata": {
        "id": "7J-O_A6sqXds"
      },
      "source": [
        "**Linear model**\n",
        "$$\n",
        "\\begin{aligned}\n",
        "w \\cdot x_i - b &\\ge 1  &\\textrm{if}~ y_i &= 1 \\\\\n",
        "w \\cdot x_i - b &\\le -1 \\quad  &\\textrm{if}~  y_i &= -1\\\\\n",
        "\\\\\n",
        "y_i (w \\cdot x_i - b) &\\ge 1\n",
        "\\end{aligned}\n",
        "$$\n",
        "<br />\n",
        "\n",
        "**Loss function**\n",
        "$$\n",
        "\\begin{aligned}\n",
        "J = \\lambda||w||^2 + \\frac{1}{n}\\sum_{i=1}^n \\max{(0, 1-y_i (w \\cdot x_i - b) )}\n",
        "\\end{aligned}\n",
        "$$\n",
        "<br />\n",
        "**Gradients**\n",
        "\n",
        "if $y_i (w \\cdot x_i - b) \\ge 1$\n",
        "$$\n",
        "\\begin{aligned}\n",
        "J_i = \\lambda||w||^2 \n",
        "\\end{aligned}\n",
        "$$\n",
        "<br />\n",
        "$$\n",
        "\\begin{aligned}\n",
        "\\frac{\\partial J_i}{dw_k} &= 2\\lambda w_k \\\\\n",
        "\\frac{\\partial J_i}{db} &= 0 \\\\\n",
        "\\end{aligned}\n",
        "$$\n",
        "<br />\n",
        "else\n",
        "$$\n",
        "\\begin{aligned}\n",
        "J_i = \\lambda||w||^2 + 1-y_i (w \\cdot x_i - b) \n",
        "\\end{aligned}\n",
        "$$\n",
        "<br />\n",
        "$$\n",
        "\\begin{aligned}\n",
        "\\frac{\\partial J_i}{dw_k} &= 2\\lambda w_k - y_i \\cdot x_i\\\\\n",
        "\\frac{\\partial J_i}{db} &= y_i \\\\\n",
        "\\end{aligned}\n",
        "$$\n",
        "<br />\n"
      ]
    },
    {
      "cell_type": "markdown",
      "metadata": {
        "id": "TnFS2_3iys06"
      },
      "source": [
        "<img src=\"https://www.avalive.cz/files/ML2/201/gd.png\">"
      ]
    },
    {
      "cell_type": "markdown",
      "metadata": {
        "id": "Yec337YKzcfZ"
      },
      "source": [
        "**Update rule**\n",
        "\n",
        "For each training sample $x_i$\n",
        "\n",
        "$$\n",
        "\\begin{aligned}\n",
        "\\omega &= \\omega - \\alpha \\frac{\\partial J_i}{d\\omega} \\\\\n",
        "b &= b - \\alpha \\frac{\\partial J_i}{db}\n",
        "\\end{aligned}\n",
        "$$\n",
        "<br />"
      ]
    },
    {
      "cell_type": "code",
      "metadata": {
        "id": "5rQDQoBDbNk0"
      },
      "source": [
        "import numpy as np\n",
        "\n",
        "class SVM:\n",
        "    def __init__(self, learning_rate=0.001, lambda_param=0.01, n_iters=1000):\n",
        "        self.lr = learning_rate\n",
        "        self.lambda_param = lambda_param\n",
        "        self.n_iters = n_iters\n",
        "        self.w = None\n",
        "        self.b = None\n",
        "\n",
        "    def fit(self, X, y):\n",
        "        n_samples, n_features = X.shape\n",
        "\n",
        "        y_ = np.where(y <= 0, -1, 1)\n",
        "\n",
        "        self.w = np.zeros(n_features)\n",
        "        self.b = 0\n",
        "\n",
        "        for _ in range(self.n_iters):\n",
        "            for idx, x_i in enumerate(X):\n",
        "                condition = y_[idx] * (np.dot(x_i, self.w) - self.b) >= 1\n",
        "                if condition:\n",
        "                    self.w = self.w - self.lr * (2 * self.lambda_param * self.w)\n",
        "                else:\n",
        "                    self.w = self.w - self.lr * (\n",
        "                        2 * self.lambda_param * self.w - np.dot(x_i, y_[idx])\n",
        "                    )\n",
        "                    self.b = self.b - self.lr * y_[idx]\n",
        "\n",
        "    def predict(self, X):\n",
        "        approx = np.dot(X, self.w) - self.b\n",
        "        return np.sign(approx)"
      ],
      "execution_count": null,
      "outputs": []
    },
    {
      "cell_type": "code",
      "metadata": {
        "id": "8tll4R82RfMH",
        "colab": {
          "base_uri": "https://localhost:8080/",
          "height": 282
        },
        "outputId": "a165483a-4e58-4478-e5ee-757df4afafd1"
      },
      "source": [
        "from sklearn import datasets\n",
        "import matplotlib.pyplot as plt\n",
        "from sklearn.model_selection import train_test_split\n",
        "\n",
        "# 1. Prepare data \n",
        "X, y = datasets.make_blobs(n_samples=100, n_features=2, centers=2, cluster_std=1.05, random_state=40)\n",
        "y = np.where(y == 0, -1, 1)\n",
        "\n",
        "# 2. Split data \n",
        "X_train, X_test, y_train, y_test = train_test_split(X, y, test_size=0.2, random_state=1234)\n",
        "\n",
        "# 3. Design a model\n",
        "clf = SVM(learning_rate=0.001, lambda_param=0.01, n_iters=1000)\n",
        "\n",
        "# 4. Train a model\n",
        "clf.fit(X_train, y_train)\n",
        "\n",
        "# 5. Make predictions\n",
        "predictions = clf.predict(X_test)\n",
        "print(clf.w, clf.b)\n",
        "\n",
        "# 6. Evaluate predictions\n",
        "\n",
        "def get_hyperplane_value(x, w, b, offset):\n",
        "    return (-w[0] * x + b + offset) / w[1]\n",
        "\n",
        "fig = plt.figure()\n",
        "ax = fig.add_subplot(1, 1, 1)\n",
        "plt.scatter(X_train[:, 0], X_train[:, 1], marker=\"o\", c=y_train)\n",
        "plt.scatter(X_test[:, 0], X_test[:, 1], marker=\"x\", c=predictions)\n",
        "\n",
        "x0_1 = np.amin(X_train[:, 0])\n",
        "x0_2 = np.amax(X_train[:, 0])\n",
        "\n",
        "x1_1 = get_hyperplane_value(x0_1, clf.w, clf.b, 0)\n",
        "x1_2 = get_hyperplane_value(x0_2, clf.w, clf.b, 0)\n",
        "\n",
        "x1_1_m = get_hyperplane_value(x0_1, clf.w, clf.b, -1)\n",
        "x1_2_m = get_hyperplane_value(x0_2, clf.w, clf.b, -1)\n",
        "\n",
        "x1_1_p = get_hyperplane_value(x0_1, clf.w, clf.b, 1)\n",
        "x1_2_p = get_hyperplane_value(x0_2, clf.w, clf.b, 1)\n",
        "\n",
        "ax.plot([x0_1, x0_2], [x1_1, x1_2], \"y--\")\n",
        "ax.plot([x0_1, x0_2], [x1_1_m, x1_2_m], \"k\")\n",
        "ax.plot([x0_1, x0_2], [x1_1_p, x1_2_p], \"k\")\n",
        "\n",
        "x1_min = np.amin(X_train[:, 1])\n",
        "x1_max = np.amax(X_train[:, 1])\n",
        "ax.set_ylim([x1_min - 3, x1_max + 3])\n",
        "\n",
        "plt.show()"
      ],
      "execution_count": null,
      "outputs": [
        {
          "output_type": "stream",
          "name": "stdout",
          "text": [
            "[0.46045689 0.16122914] -0.08600000000000006\n"
          ]
        },
        {
          "output_type": "display_data",
          "data": {
            "image/png": "[encoded data removed]",
            "text/plain": [
              "<Figure size 432x288 with 1 Axes>"
            ]
          },
          "metadata": {
            "needs_background": "light"
          }
        }
      ]
    },
    {
      "cell_type": "markdown",
      "metadata": {
        "id": "3WNQG33xx9AH"
      },
      "source": [
        "## Quantifying the quality of predictions\n",
        "\n",
        "Read documentation about [Metrics and scoring](https://scikit-learn.org/stable/modules/model_evaluation.html) on Scikit-learn."
      ]
    },
    {
      "cell_type": "markdown",
      "metadata": {
        "id": "QZLp_v91sIKp"
      },
      "source": [
        "If $\\hat{y}_i$ is the predicted value of the $i$-th sample and $y_i$\n",
        " is the corresponding true value, then the fraction of correct predictions over \n",
        " is defined as<br /><br />\n",
        "\n",
        "$\\texttt{accuracy}(y, \\hat{y}) = \\frac{1}{n_\\text{samples}} \\sum_{i=0}^{n_\\text{samples}-1} 1(\\hat{y}_i = y_i)$ <br /><br />\n",
        "\n",
        "where $1(x)$ is the indicator function."
      ]
    },
    {
      "cell_type": "code",
      "metadata": {
        "id": "17kbRTOhh28P",
        "colab": {
          "base_uri": "https://localhost:8080/"
        },
        "outputId": "79cc26b6-ffe1-4c61-e088-e0b503802b14"
      },
      "source": [
        "# 6. Evaluate predictions (numerically)\n",
        "from sklearn.metrics import accuracy_score\n",
        "accuracy_score(predictions, y_test)"
      ],
      "execution_count": null,
      "outputs": [
        {
          "output_type": "execute_result",
          "data": {
            "text/plain": [
              "0.85"
            ]
          },
          "metadata": {},
          "execution_count": 66
        }
      ]
    },
    {
      "cell_type": "code",
      "metadata": {
        "id": "HFeNsruYuFjA",
        "colab": {
          "base_uri": "https://localhost:8080/"
        },
        "outputId": "c8c7b43c-2b20-432b-c529-e133259c3a42"
      },
      "source": [
        "from sklearn.metrics import confusion_matrix\n",
        "confusion_matrix(predictions, y_test)"
      ],
      "execution_count": null,
      "outputs": [
        {
          "output_type": "execute_result",
          "data": {
            "text/plain": [
              "array([[13,  3],\n",
              "       [ 0,  4]])"
            ]
          },
          "metadata": {},
          "execution_count": 67
        }
      ]
    },
    {
      "cell_type": "markdown",
      "metadata": {
        "id": "PCU4OudIzLX_"
      },
      "source": [
        "<img src=\"https://www.avalive.cz/files/ML2/201/cm.jpg\">"
      ]
    },
    {
      "cell_type": "code",
      "metadata": {
        "id": "NcikIFynussY"
      },
      "source": [
        "tn, fp, fn, tp = confusion_matrix(predictions, y_test).ravel()"
      ],
      "execution_count": null,
      "outputs": []
    },
    {
      "cell_type": "code",
      "metadata": {
        "id": "bAmfOIewvN0w"
      },
      "source": [
        "sensitivity = tp / (tp+fn)\n",
        "specificity = tn / (tn+fp)\n",
        "precision = tp / (tp+fp)\n",
        "npv = tn / (tn+fn)\n",
        "accuracy = (tp+tn)/(tp+tn+fp+fn)"
      ],
      "execution_count": null,
      "outputs": []
    },
    {
      "cell_type": "code",
      "metadata": {
        "id": "cGmYrM_evheQ",
        "colab": {
          "base_uri": "https://localhost:8080/"
        },
        "outputId": "bb8b9ecc-d31b-450c-a27e-e24ea1689b33"
      },
      "source": [
        "print(f'Sensitivity:\\t{sensitivity}\\nSpecificity:\\t{specificity}\\nPrecision:\\t{precision}\\nNPV:\\t\\t{npv}\\nAccuracy:\\t{accuracy} \\n')"
      ],
      "execution_count": null,
      "outputs": [
        {
          "output_type": "stream",
          "name": "stdout",
          "text": [
            "Sensitivity:\t1.0\n",
            "Specificity:\t0.8125\n",
            "Precision:\t0.5714285714285714\n",
            "NPV:\t\t1.0\n",
            "Accuracy:\t0.85 \n",
            "\n"
          ]
        }
      ]
    },
    {
      "cell_type": "code",
      "metadata": {
        "id": "gWouNI15we5i",
        "colab": {
          "base_uri": "https://localhost:8080/"
        },
        "outputId": "92bbfa94-6e43-46bb-822b-66c968672d46"
      },
      "source": [
        "from sklearn.metrics import classification_report\n",
        "print(classification_report(predictions, y_test))"
      ],
      "execution_count": null,
      "outputs": [
        {
          "output_type": "stream",
          "name": "stdout",
          "text": [
            "              precision    recall  f1-score   support\n",
            "\n",
            "        -1.0       1.00      0.81      0.90        16\n",
            "         1.0       0.57      1.00      0.73         4\n",
            "\n",
            "    accuracy                           0.85        20\n",
            "   macro avg       0.79      0.91      0.81        20\n",
            "weighted avg       0.91      0.85      0.86        20\n",
            "\n"
          ]
        }
      ]
    },
    {
      "cell_type": "markdown",
      "metadata": {
        "id": "8jII66zR5FTa"
      },
      "source": [
        "## k-nearest neighbors (KNN)\n",
        "\n",
        "### Iris Data Set\n",
        "* [“Hello World of machine learning\"](https://machinelearningmastery.com/machine-learning-in-python-step-by-step/)\n",
        "* [\"Perhaps the best known database to be found in the pattern recognition literature\"](https://archive.ics.uci.edu/ml/datasets/iris)\n",
        "\n",
        "<img src=\"https://www.avalive.cz/files/ML2/201/knn.png\">"
      ]
    },
    {
      "cell_type": "code",
      "metadata": {
        "id": "AhP50Rt_YqJP"
      },
      "source": [
        "from collections import Counter\n",
        "import numpy as np\n",
        "\n",
        "def euclidean_distance(x1, x2):\n",
        "    return np.sqrt(np.sum((x1 - x2) ** 2))\n",
        "\n",
        "class KNN:\n",
        "    def __init__(self, k=3):\n",
        "        self.k = k\n",
        "\n",
        "    def fit(self, X, y):\n",
        "        self.X_train = X\n",
        "        self.y_train = y\n",
        "\n",
        "    def predict(self, X):\n",
        "        y_pred = [self._predict(x) for x in X]\n",
        "        return np.array(y_pred)\n",
        "\n",
        "    def _predict(self, x):\n",
        "        # Compute distances between x and all examples in the training set\n",
        "        distances = [euclidean_distance(x, x_train) for x_train in self.X_train]\n",
        "        # Sort by distance and return indices of the first k neighbors\n",
        "        k_idx = np.argsort(distances)[: self.k]\n",
        "        # Extract the labels of the k nearest neighbor training samples\n",
        "        k_neighbor_labels = [self.y_train[i] for i in k_idx]\n",
        "        # return the most common class label\n",
        "        most_common = Counter(k_neighbor_labels).most_common(1)\n",
        "        return most_common[0][0]"
      ],
      "execution_count": null,
      "outputs": []
    },
    {
      "cell_type": "code",
      "metadata": {
        "id": "yB_BRRsWhdrx",
        "colab": {
          "base_uri": "https://localhost:8080/",
          "height": 299
        },
        "outputId": "956b377b-879c-43c4-a4e9-d2d9634cd9bf"
      },
      "source": [
        "from matplotlib.colors import ListedColormap\n",
        "from sklearn import datasets\n",
        "from sklearn.model_selection import train_test_split\n",
        "import matplotlib.pyplot as plt\n",
        "\n",
        "cmap = ListedColormap([\"#FF0000\", \"#00FF00\", \"#0000FF\"])\n",
        "\n",
        "def accuracy(y_true, y_pred):\n",
        "    accuracy = np.sum(y_true == y_pred) / len(y_true)\n",
        "    return accuracy\n",
        "\n",
        "# 1. Prepare data \n",
        "iris = datasets.load_iris()\n",
        "X, y = iris.data, iris.target\n",
        "\n",
        "# 2. Split data \n",
        "X_train, X_test, y_train, y_test = train_test_split(X, y, test_size=0.95, random_state=1234)\n",
        "\n",
        "# 3. Design a model\n",
        "k = 3\n",
        "clf = KNN(k=k)\n",
        "\n",
        "# 4. Train a model\n",
        "clf.fit(X_train, y_train)\n",
        "\n",
        "# 5. Make predictions\n",
        "predictions = clf.predict(X_test)\n",
        "\n",
        "# 6. Evaluate predictions\n",
        "print(\"KNN classification accuracy\", accuracy(y_test, predictions))\n",
        "\n",
        "plt.figure()\n",
        "plt.scatter(X[:,1],X[:,2],c=y, cmap=cmap, edgecolors='k', s=20 )\n",
        "plt.show()\n",
        "\n",
        "X_train.shape"
      ],
      "execution_count": null,
      "outputs": [
        {
          "output_type": "stream",
          "name": "stdout",
          "text": [
            "KNN classification accuracy 0.7062937062937062\n"
          ]
        },
        {
          "output_type": "display_data",
          "data": {
            "image/png": "[encoded data removed]",
            "text/plain": [
              "<Figure size 432x288 with 1 Axes>"
            ]
          },
          "metadata": {
            "needs_background": "light"
          }
        },
        {
          "output_type": "execute_result",
          "data": {
            "text/plain": [
              "(7, 4)"
            ]
          },
          "metadata": {},
          "execution_count": 2
        }
      ]
    },
    {
      "cell_type": "markdown",
      "metadata": {
        "id": "AMTAGtrgNw1e"
      },
      "source": [
        "## ✍🏼 Excercise 201.5"
      ]
    },
    {
      "cell_type": "markdown",
      "metadata": {
        "id": "7G8a2un1Nw1e"
      },
      "source": [
        "*This excercise has two options.* <br /><br />\n",
        "\n",
        "---\n",
        "*First option - You can read the following interactive blog about decision trees (both pages):*\n",
        "\n",
        "> [A visual introduction to ML](http://www.r2d3.us/visual-intro-to-machine-learning-part-1/) - It can help you during the next lab session.\n",
        "\n",
        "> [Bias and Variance](http://www.r2d3.us/visual-intro-to-machine-learning-part-2/)\n",
        " \n",
        "And answer the following questions:\n",
        "\n",
        "\n",
        "*   Name some of the features (variables) in the classification task described in the article.\n",
        "*   What is a histogram?\n",
        "*   Authors write that \"Picking a split point has tradeoffs.\" Can you describe these tradeoffs?\n",
        "*   What are \"False positives\" and \"False negatives\" in the article?\n",
        "*   How do you understand Bias-Variance Tradeoff?\n",
        "\n",
        " <br /><br />\n",
        "\n",
        "---\n",
        "\n",
        "\n",
        "\n",
        "OR\n",
        "\n",
        " \n",
        "*Second option - you can program PCA (Principal Component Analysis) in Python according to this video (or by yourself)*\n",
        "\n",
        "> [Principal Component Analysis - Python Tutorial](https://youtu.be/52d7ha-GdV8?list=PLqnslRFeH2Upcrywf-u2etjdxxkL8nl7E)\n",
        "\n",
        "\n",
        "\n",
        "---\n",
        " <br /><br />\n",
        "\n"
      ]
    },
    {
      "cell_type": "markdown",
      "metadata": {
        "id": "gEEmwdaMXoDi"
      },
      "source": [
        "<h3>Add your answers or your code...</h3>"
      ]
    },
    {
      "cell_type": "markdown",
      "metadata": {
        "id": "2gz_cjScoHO0"
      },
      "source": [
        "# Summary\n"
      ]
    },
    {
      "cell_type": "markdown",
      "metadata": {
        "id": "-uYhsQSzY4-m"
      },
      "source": [
        "![Logo 201](https://www.avalive.cz/files/ML2/201/201_recap.png)\n"
      ]
    }
  ]
}